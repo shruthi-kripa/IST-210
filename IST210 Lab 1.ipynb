{
  "nbformat": 4,
  "nbformat_minor": 0,
  "metadata": {
    "colab": {
      "name": "IST 210 Lab1 .ipynb",
      "provenance": [],
      "authorship_tag": "ABX9TyO6l+S0LtD4Jm6BgPruodHI",
      "include_colab_link": true
    },
    "kernelspec": {
      "name": "python3",
      "display_name": "Python 3"
    }
  },
  "cells": [
    {
      "cell_type": "markdown",
      "metadata": {
        "id": "view-in-github",
        "colab_type": "text"
      },
      "source": [
        "<a href=\"https://colab.research.google.com/github/shruthi-kripa/IST-210/blob/master/IST210%20Lab%201.ipynb\" target=\"_parent\"><img src=\"https://colab.research.google.com/assets/colab-badge.svg\" alt=\"Open In Colab\"/></a>"
      ]
    },
    {
      "cell_type": "code",
      "metadata": {
        "id": "7MH2WKDRctqs",
        "colab_type": "code",
        "colab": {}
      },
      "source": [
        ""
      ],
      "execution_count": 0,
      "outputs": []
    },
    {
      "cell_type": "markdown",
      "metadata": {
        "id": "qmV7uFoycwRi",
        "colab_type": "text"
      },
      "source": [
        "#Shruthi Kripashankar \n",
        "##I am an IST Minor and hope I can integrate the course information with the knowledge I have from being and economics major. I want IST makes me more comfortable with technology.\n",
        "###I apire to be a business consultant after I graduate from Penn State. \n",
        "\n",
        "![alt text](https://raw.githubusercontent.com/shruthi-kripa/IST-210--Lab-/master/WhatsApp%20Image%202020-01-16%20at%205.37.54%20PM.jpeg)"
      ]
    }
  ]
}