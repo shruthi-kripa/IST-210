{
  "nbformat": 4,
  "nbformat_minor": 0,
  "metadata": {
    "colab": {
      "name": "IST Lab 2.ipynb",
      "provenance": [],
      "authorship_tag": "ABX9TyPQFC4d5Bu2ISPSpj6gc7VU",
      "include_colab_link": true
    },
    "kernelspec": {
      "name": "python3",
      "display_name": "Python 3"
    }
  },
  "cells": [
    {
      "cell_type": "markdown",
      "metadata": {
        "id": "view-in-github",
        "colab_type": "text"
      },
      "source": [
        "<a href=\"https://colab.research.google.com/github/shruthi-kripa/IST-210/blob/master/Lab%202.ipynb\" target=\"_parent\"><img src=\"https://colab.research.google.com/assets/colab-badge.svg\" alt=\"Open In Colab\"/></a>"
      ]
    },
    {
      "cell_type": "markdown",
      "metadata": {
        "id": "6SMdyE3zqCx-",
        "colab_type": "text"
      },
      "source": [
        "#Pet Store ER Diagram \n",
        "The diagram shows the relationships between the following tables; pets, enclosures, food, purchase pets, purchase food, and customer. They are connected through various processes. Each main item, person and animal all have a code for the pet store owner to keep track of the different processes easily why having a real count of the stock. \n",
        "\n",
        "The \"PETS\" table has the following entities: Pet ID, species, breed, quantity, and enclosure ID. This way the owner will know how many of ach animal he has and where each animal is. \n",
        "\n",
        "The “ENCLOSURE” table entails of the following information: enclosure ID, breed, Pet ID, quantity, and type. This will help ensure that pets of the same breed are living together in the right “type” of cage. \n",
        "\n",
        "The “FOOD” table has the item code, species, quantity, and dry or wet. This will allow he owner to know how much cat/ dog/ fish/ etc. food is in stock while also separating the wet and dry foods. \n",
        "\n",
        "The “PURCHASE PETS” table shows us the interaction that occurs when a pet is purchased. The following information is linked with one another during the transaction of a pet: transaction ID, breed, quantity, pet ID, and customer ID. \n",
        "\n",
        "During the purchase of food, the “PURCHASE FOOD” table will show us the following information: transaction ID, item code, species, quantity, and customer ID. The table will get updated where there is any food purchase in the pet store.\n",
        "\n",
        "The “CUSTOMER” table has the following entities: customer ID, loyalty points, first name, and last name. When a customer makes a purchase their account, if existing, will get pulled up and their loyalty points will be shown to the owner. The customer can choose to use the points or not. \n"
      ]
    },
    {
      "cell_type": "markdown",
      "metadata": {
        "id": "hHm6g4fag_Gh",
        "colab_type": "text"
      },
      "source": [
        "![alt text](https://raw.githubusercontent.com/shruthi-kripa/IST-210/master/Labs/IST%20Lab%202.png)"
      ]
    }
  ]
}