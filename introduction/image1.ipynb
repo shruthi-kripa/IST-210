{
  "nbformat": 4,
  "nbformat_minor": 0,
  "metadata": {
    "colab": {
      "name": "Week 1 (1/15) .ipynb",
      "provenance": [],
      "authorship_tag": "ABX9TyNxDy1It7SZh+XZwDZ/tvCd",
      "include_colab_link": true
    },
    "kernelspec": {
      "name": "python3",
      "display_name": "Python 3"
    }
  },
  "cells": [
    {
      "cell_type": "markdown",
      "metadata": {
        "id": "view-in-github",
        "colab_type": "text"
      },
      "source": [
        "<a href=\"https://colab.research.google.com/github/shruthi-kripa/IST-210/blob/master/introduction/image1.ipynb\" target=\"_parent\"><img src=\"https://colab.research.google.com/assets/colab-badge.svg\" alt=\"Open In Colab\"/></a>"
      ]
    },
    {
      "cell_type": "code",
      "metadata": {
        "id": "nsFGkyeUzDeK",
        "colab_type": "code",
        "colab": {
          "base_uri": "https://localhost:8080/",
          "height": 34
        },
        "outputId": "a1d113ae-54ee-4d27-cea7-769b12c943fe"
      },
      "source": [
        "2+2"
      ],
      "execution_count": 1,
      "outputs": [
        {
          "output_type": "execute_result",
          "data": {
            "text/plain": [
              "4"
            ]
          },
          "metadata": {
            "tags": []
          },
          "execution_count": 1
        }
      ]
    },
    {
      "cell_type": "markdown",
      "metadata": {
        "id": "qv4UIQK-4Ld6",
        "colab_type": "text"
      },
      "source": [
        "![alt text](https://raw.githubusercontent.com/shruthi-kripa/IST-210/master/Introduction/IMG_2664.JPG)"
      ]
    }
  ]
}